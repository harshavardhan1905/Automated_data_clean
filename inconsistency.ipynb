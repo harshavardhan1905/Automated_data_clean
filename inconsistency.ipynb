{
 "cells": [
  {
   "cell_type": "code",
   "execution_count": null,
   "metadata": {},
   "outputs": [],
   "source": [
    "import pandas as pd\n",
    "import numpy as np\n",
    "import re\n",
    "\n",
    " "
   ]
  },
  {
   "cell_type": "code",
   "execution_count": 27,
   "metadata": {},
   "outputs": [],
   "source": [
    "#load dataset\n",
    "df = pd.read_csv(\"Data.csv\")\n",
    "updates_list = {}\n",
    "\n"
   ]
  },
  {
   "cell_type": "code",
   "execution_count": 35,
   "metadata": {},
   "outputs": [
    {
     "name": "stdout",
     "output_type": "stream",
     "text": [
      "0    22-04-2025\n",
      "1    22-04-2025\n",
      "2    22-04-2025\n",
      "3    22-04-2025\n",
      "4    22-04-2025\n",
      "5    22-04-2025\n",
      "6    22-04-2025\n",
      "7    22-04-2025\n",
      "8    22-04-2025\n",
      "9    22-04-2025\n",
      "Name: Date, dtype: object\n"
     ]
    }
   ],
   "source": [
    "def clean_and_format_date(date_str):\n",
    "    \"\"\"Extract numbers and format them as DD-MM-YYYY.\"\"\"\n",
    "    # Extract numbers using regex\n",
    "    numbers = re.findall(r'\\d+', date_str)\n",
    "    \n",
    "    # Ensure we have exactly three numerical parts\n",
    "    if len(numbers) == 3:\n",
    "        day, month, year = numbers  # Extract day, month, year\n",
    "        return f\"{day.zfill(2)}-{month.zfill(2)}-{year}\"  # Format as DD-MM-YYYY\n",
    "    \n",
    "    return \"Invalid Date\"  # If the format is incorrect\n",
    "\n",
    "# Apply function to clean the 'Date' column\n",
    "df[\"Date\"] = df[\"Date\"].apply(clean_and_format_date)\n",
    "\n",
    "\n",
    "print(df[\"Date\"])"
   ]
  },
  {
   "cell_type": "code",
   "execution_count": null,
   "metadata": {},
   "outputs": [],
   "source": [
    "#deletes the duplicate decords\n",
    "df = df.drop_duplicates()\n",
    "print(df)\n"
   ]
  },
  {
   "cell_type": "code",
   "execution_count": 30,
   "metadata": {},
   "outputs": [],
   "source": [
    "def remove_outliers(df):\n",
    "    numeric_cols = df.select_dtypes(include=np.number).columns\n",
    "    for col in numeric_cols:\n",
    "        Q1 = df[col].quantile(0.25)\n",
    "        Q3 = df[col].quantile(0.75)\n",
    "        IQR = Q3 - Q1\n",
    "        df = df[~((df[col] < (Q1 - 1.5 * IQR)) | (df[col] > (Q3 + 1.5 * IQR)))]\n",
    "    return df\n"
   ]
  },
  {
   "cell_type": "code",
   "execution_count": 34,
   "metadata": {},
   "outputs": [
    {
     "name": "stdout",
     "output_type": "stream",
     "text": [
      "Encoded data:\n",
      "    Age   Salary  Country_Germany  Country_Spain  Purchased_Yes\n",
      "0  44.0  72000.0            False          False          False\n",
      "1  27.0  48000.0            False           True           True\n",
      "2  30.0  54000.0             True          False          False\n",
      "3  38.0  61000.0            False           True          False\n",
      "4  40.0      NaN             True          False           True\n",
      "5  35.0  58000.0            False          False           True\n",
      "6   NaN  52000.0            False           True          False\n",
      "7  48.0  79000.0            False          False           True\n",
      "8  50.0  83000.0             True          False          False\n",
      "9  37.0  67000.0            False          False           True\n"
     ]
    }
   ],
   "source": [
    "def encode_categorical(df):\n",
    "    categorical_cols = df.select_dtypes(include='object').columns\n",
    "    return pd.get_dummies(df, columns=categorical_cols, drop_first=True)\n",
    "df_encode = encode_categorical(df);\n",
    "print(\"Encoded data:\")\n",
    "print( df_encode)"
   ]
  }
 ],
 "metadata": {
  "kernelspec": {
   "display_name": "Python 3",
   "language": "python",
   "name": "python3"
  },
  "language_info": {
   "codemirror_mode": {
    "name": "ipython",
    "version": 3
   },
   "file_extension": ".py",
   "mimetype": "text/x-python",
   "name": "python",
   "nbconvert_exporter": "python",
   "pygments_lexer": "ipython3",
   "version": "3.13.0"
  }
 },
 "nbformat": 4,
 "nbformat_minor": 2
}
